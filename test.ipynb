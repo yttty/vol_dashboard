{
 "cells": [
  {
   "cell_type": "code",
   "execution_count": 4,
   "id": "e127efc5",
   "metadata": {},
   "outputs": [],
   "source": [
    "from vol_dashboard.connector.db_connector import VolDbConnector\n",
    "import datetime"
   ]
  },
  {
   "cell_type": "code",
   "execution_count": 5,
   "id": "92865249",
   "metadata": {},
   "outputs": [],
   "source": [
    "db_conn = VolDbConnector()\n",
    "end_dt = datetime.datetime.now(tz=datetime.timezone.utc) - datetime.timedelta(days=1)\n",
    "start_dt = end_dt - datetime.timedelta(minutes=10)\n",
    "klines = db_conn.get_klines(\n",
    "    symbol=\"BTC-PERPETUAL\",\n",
    "    interval=\"1m\",\n",
    "    from_timestamp=int(start_dt.timestamp()),\n",
    "    to_timestamp=int(end_dt.timestamp()),\n",
    "    exchange=\"DERIBIT\",\n",
    ")"
   ]
  },
  {
   "cell_type": "code",
   "execution_count": 6,
   "id": "891e7440",
   "metadata": {},
   "outputs": [
    {
     "data": {
      "text/plain": [
       "[('BTC-PERPETUAL',\n",
       "  '1m',\n",
       "  1758704580,\n",
       "  'DERIBIT',\n",
       "  112585.0,\n",
       "  112585.0,\n",
       "  112569.5,\n",
       "  112569.5,\n",
       "  22.31406241),\n",
       " ('BTC-PERPETUAL',\n",
       "  '1m',\n",
       "  1758704640,\n",
       "  'DERIBIT',\n",
       "  112569.5,\n",
       "  112591.0,\n",
       "  112569.0,\n",
       "  112591.0,\n",
       "  2.11581014),\n",
       " ('BTC-PERPETUAL',\n",
       "  '1m',\n",
       "  1758704700,\n",
       "  'DERIBIT',\n",
       "  112591.0,\n",
       "  112603.5,\n",
       "  112591.0,\n",
       "  112603.5,\n",
       "  1.81617281),\n",
       " ('BTC-PERPETUAL',\n",
       "  '1m',\n",
       "  1758704760,\n",
       "  'DERIBIT',\n",
       "  112603.5,\n",
       "  112614.0,\n",
       "  112603.5,\n",
       "  112614.0,\n",
       "  1.13157718),\n",
       " ('BTC-PERPETUAL',\n",
       "  '1m',\n",
       "  1758704820,\n",
       "  'DERIBIT',\n",
       "  112614.0,\n",
       "  112619.0,\n",
       "  112613.5,\n",
       "  112619.0,\n",
       "  0.18798708),\n",
       " ('BTC-PERPETUAL',\n",
       "  '1m',\n",
       "  1758704880,\n",
       "  'DERIBIT',\n",
       "  112618.5,\n",
       "  112635.0,\n",
       "  112618.5,\n",
       "  112635.0,\n",
       "  0.26700573),\n",
       " ('BTC-PERPETUAL',\n",
       "  '1m',\n",
       "  1758704940,\n",
       "  'DERIBIT',\n",
       "  112634.5,\n",
       "  112635.0,\n",
       "  112571.5,\n",
       "  112571.5,\n",
       "  8.25508784),\n",
       " ('BTC-PERPETUAL',\n",
       "  '1m',\n",
       "  1758705000,\n",
       "  'DERIBIT',\n",
       "  112571.5,\n",
       "  112571.5,\n",
       "  112571.5,\n",
       "  112571.5,\n",
       "  0.01154822),\n",
       " ('BTC-PERPETUAL',\n",
       "  '1m',\n",
       "  1758705060,\n",
       "  'DERIBIT',\n",
       "  112571.5,\n",
       "  112571.5,\n",
       "  112567.0,\n",
       "  112567.0,\n",
       "  2.33301362),\n",
       " ('BTC-PERPETUAL',\n",
       "  '1m',\n",
       "  1758705120,\n",
       "  'DERIBIT',\n",
       "  112567.0,\n",
       "  112567.0,\n",
       "  112567.0,\n",
       "  112567.0,\n",
       "  0.00524132)]"
      ]
     },
     "execution_count": 6,
     "metadata": {},
     "output_type": "execute_result"
    }
   ],
   "source": [
    "klines"
   ]
  }
 ],
 "metadata": {
  "kernelspec": {
   "display_name": "fbg",
   "language": "python",
   "name": "python3"
  },
  "language_info": {
   "codemirror_mode": {
    "name": "ipython",
    "version": 3
   },
   "file_extension": ".py",
   "mimetype": "text/x-python",
   "name": "python",
   "nbconvert_exporter": "python",
   "pygments_lexer": "ipython3",
   "version": "3.12.11"
  }
 },
 "nbformat": 4,
 "nbformat_minor": 5
}
