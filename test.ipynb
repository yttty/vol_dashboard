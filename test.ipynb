{
 "cells": [
  {
   "cell_type": "code",
   "execution_count": 1,
   "id": "e127efc5",
   "metadata": {},
   "outputs": [],
   "source": [
    "from vol_dashboard.connector.db_connector import VolDbConnector\n",
    "import datetime"
   ]
  },
  {
   "cell_type": "code",
   "execution_count": 2,
   "id": "92865249",
   "metadata": {},
   "outputs": [],
   "source": [
    "db_conn = VolDbConnector()\n",
    "end_dt = datetime.datetime.now(tz=datetime.timezone.utc) - datetime.timedelta(days=1)\n",
    "start_dt = end_dt - datetime.timedelta(minutes=10)\n",
    "klines = db_conn.get_klines(\n",
    "    symbol=\"BTC-PERPETUAL\",\n",
    "    interval=\"1m\",\n",
    "    from_timestamp=int(start_dt.timestamp()),\n",
    "    to_timestamp=int(end_dt.timestamp()),\n",
    "    exchange=\"DERIBIT\",\n",
    ")"
   ]
  },
  {
   "cell_type": "code",
   "execution_count": 16,
   "id": "891e7440",
   "metadata": {},
   "outputs": [],
   "source": [
    "end_dt = datetime.datetime.combine(\n",
    "    (datetime.datetime.now(tz=datetime.timezone.utc) - datetime.timedelta(days=1)).date(),\n",
    "    datetime.time(8, tzinfo=datetime.timezone.utc),\n",
    ")\n",
    "start_dt = end_dt - datetime.timedelta(days=21)\n",
    "\n",
    "start_dt = start_dt.replace(tzinfo=None)\n",
    "end_dt = end_dt.replace(tzinfo=None)\n",
    "daily_rv = db_conn.get_daily_rv(symbol=\"BTC-PERPETUAL\", exchange=\"DERIBIT\", from_date=start_dt, to_date=end_dt)"
   ]
  },
  {
   "cell_type": "code",
   "execution_count": 17,
   "id": "b86090cc",
   "metadata": {},
   "outputs": [
    {
     "data": {
      "text/plain": [
       "[(datetime.datetime(2025, 9, 4, 8, 0),\n",
       "  'BTC-PERPETUAL',\n",
       "  'DERIBIT',\n",
       "  0.2866116052011424,\n",
       "  datetime.datetime(2025, 9, 25, 10, 57, 2, 184067)),\n",
       " (datetime.datetime(2025, 9, 5, 8, 0),\n",
       "  'BTC-PERPETUAL',\n",
       "  'DERIBIT',\n",
       "  0.3799209683809358,\n",
       "  datetime.datetime(2025, 9, 25, 10, 57, 2, 261379)),\n",
       " (datetime.datetime(2025, 9, 6, 8, 0),\n",
       "  'BTC-PERPETUAL',\n",
       "  'DERIBIT',\n",
       "  0.11719370576770374,\n",
       "  datetime.datetime(2025, 9, 25, 10, 57, 2, 352725)),\n",
       " (datetime.datetime(2025, 9, 7, 8, 0),\n",
       "  'BTC-PERPETUAL',\n",
       "  'DERIBIT',\n",
       "  0.18810413678591067,\n",
       "  datetime.datetime(2025, 9, 25, 10, 57, 2, 431578)),\n",
       " (datetime.datetime(2025, 9, 8, 8, 0),\n",
       "  'BTC-PERPETUAL',\n",
       "  'DERIBIT',\n",
       "  0.24779673599211732,\n",
       "  datetime.datetime(2025, 9, 25, 10, 57, 2, 544027)),\n",
       " (datetime.datetime(2025, 9, 9, 8, 0),\n",
       "  'BTC-PERPETUAL',\n",
       "  'DERIBIT',\n",
       "  0.25517590727042616,\n",
       "  datetime.datetime(2025, 9, 25, 10, 57, 2, 667532))]"
      ]
     },
     "execution_count": 17,
     "metadata": {},
     "output_type": "execute_result"
    }
   ],
   "source": [
    "daily_rv"
   ]
  },
  {
   "cell_type": "code",
   "execution_count": 14,
   "id": "b066b342",
   "metadata": {},
   "outputs": [
    {
     "data": {
      "text/plain": [
       "datetime.datetime(2025, 9, 20, 8, 0)"
      ]
     },
     "execution_count": 14,
     "metadata": {},
     "output_type": "execute_result"
    }
   ],
   "source": [
    "start_dt"
   ]
  },
  {
   "cell_type": "code",
   "execution_count": 15,
   "id": "bd8c0fc4",
   "metadata": {},
   "outputs": [
    {
     "data": {
      "text/plain": [
       "datetime.datetime(2025, 9, 25, 8, 0)"
      ]
     },
     "execution_count": 15,
     "metadata": {},
     "output_type": "execute_result"
    }
   ],
   "source": [
    "end_dt"
   ]
  },
  {
   "cell_type": "code",
   "execution_count": 1,
   "id": "2a102345",
   "metadata": {},
   "outputs": [],
   "source": [
    "from datetimerange import DateTimeRange\n",
    "dtr0 = DateTimeRange(\"2015-03-22T10:00:00+0900\", \"2015-03-24T10:00:00+0900\")\n",
    "dtr1 = DateTimeRange(\"2015-03-22T10:05:00+0900\", \"2015-03-23T10:15:00+0900\")\n",
    "d = dtr0.subtract(dtr1)"
   ]
  },
  {
   "cell_type": "code",
   "execution_count": 3,
   "id": "a9555ce8",
   "metadata": {},
   "outputs": [
    {
     "data": {
      "text/plain": [
       "list"
      ]
     },
     "execution_count": 3,
     "metadata": {},
     "output_type": "execute_result"
    }
   ],
   "source": [
    "type(d)"
   ]
  },
  {
   "cell_type": "code",
   "execution_count": null,
   "id": "68d0fa0d",
   "metadata": {},
   "outputs": [],
   "source": []
  },
  {
   "cell_type": "code",
   "execution_count": 44,
   "id": "0de3690b",
   "metadata": {},
   "outputs": [],
   "source": [
    "dtr0 = DateTimeRange(\"2015-03-22T10:00:00+0900\", \"2015-03-22T10:00:00+0900\")\n",
    "dtr1 = DateTimeRange(\"2015-03-22T10:00:00+0900\", \"2016-03-22T10:15:00+0900\")\n",
    "i= dtr0.intersection(dtr1)"
   ]
  },
  {
   "cell_type": "code",
   "execution_count": 45,
   "id": "0d26fb10",
   "metadata": {},
   "outputs": [
    {
     "name": "stdout",
     "output_type": "stream",
     "text": [
      "2015-03-22 10:00:00+09:00\n"
     ]
    }
   ],
   "source": [
    "print(i.start_datetime)"
   ]
  },
  {
   "cell_type": "code",
   "execution_count": 46,
   "id": "2bc91b2b",
   "metadata": {},
   "outputs": [
    {
     "data": {
      "text/plain": [
       "0.0"
      ]
     },
     "execution_count": 46,
     "metadata": {},
     "output_type": "execute_result"
    }
   ],
   "source": [
    "i.get_timedelta_second()"
   ]
  },
  {
   "cell_type": "code",
   "execution_count": 47,
   "id": "0a82fed5",
   "metadata": {},
   "outputs": [
    {
     "data": {
      "text/plain": [
       "2015-03-22T10:00:00+0900 - 2015-03-22T10:00:00+0900"
      ]
     },
     "execution_count": 47,
     "metadata": {},
     "output_type": "execute_result"
    }
   ],
   "source": [
    "i"
   ]
  },
  {
   "cell_type": "code",
   "execution_count": 26,
   "id": "79c11247",
   "metadata": {},
   "outputs": [
    {
     "data": {
      "text/plain": [
       "datetime.datetime(2015, 3, 22, 10, 0, tzinfo=tzoffset(None, 32400))"
      ]
     },
     "execution_count": 26,
     "metadata": {},
     "output_type": "execute_result"
    }
   ],
   "source": [
    "d[0].start_datetime"
   ]
  },
  {
   "cell_type": "code",
   "execution_count": null,
   "id": "de905f89",
   "metadata": {},
   "outputs": [],
   "source": []
  }
 ],
 "metadata": {
  "kernelspec": {
   "display_name": "fbg",
   "language": "python",
   "name": "python3"
  },
  "language_info": {
   "codemirror_mode": {
    "name": "ipython",
    "version": 3
   },
   "file_extension": ".py",
   "mimetype": "text/x-python",
   "name": "python",
   "nbconvert_exporter": "python",
   "pygments_lexer": "ipython3",
   "version": "3.12.11"
  }
 },
 "nbformat": 4,
 "nbformat_minor": 5
}
