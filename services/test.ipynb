{
 "cells": [
  {
   "cell_type": "code",
   "execution_count": 1,
   "id": "e127efc5",
   "metadata": {},
   "outputs": [],
   "source": [
    "from update_upcoming_event_vol import estimate_event_vol"
   ]
  },
  {
   "cell_type": "code",
   "execution_count": 2,
   "id": "92865249",
   "metadata": {},
   "outputs": [],
   "source": [
    "df = estimate_event_vol()"
   ]
  },
  {
   "cell_type": "code",
   "execution_count": 3,
   "id": "156aef94",
   "metadata": {},
   "outputs": [
    {
     "data": {
      "text/plain": [
       "Event Vol    0.486509\n",
       "Name: (CPI, BTC), dtype: float64"
      ]
     },
     "execution_count": 3,
     "metadata": {},
     "output_type": "execute_result"
    }
   ],
   "source": [
    "df.loc[\"CPI\",\"BTC\"]"
   ]
  },
  {
   "cell_type": "code",
   "execution_count": 4,
   "id": "a55c9574",
   "metadata": {},
   "outputs": [
    {
     "data": {
      "text/html": [
       "<div>\n",
       "<style scoped>\n",
       "    .dataframe tbody tr th:only-of-type {\n",
       "        vertical-align: middle;\n",
       "    }\n",
       "\n",
       "    .dataframe tbody tr th {\n",
       "        vertical-align: top;\n",
       "    }\n",
       "\n",
       "    .dataframe thead th {\n",
       "        text-align: right;\n",
       "    }\n",
       "</style>\n",
       "<table border=\"1\" class=\"dataframe\">\n",
       "  <thead>\n",
       "    <tr style=\"text-align: right;\">\n",
       "      <th></th>\n",
       "      <th></th>\n",
       "      <th>Event Vol</th>\n",
       "    </tr>\n",
       "    <tr>\n",
       "      <th>Event Name</th>\n",
       "      <th>Currency</th>\n",
       "      <th></th>\n",
       "    </tr>\n",
       "  </thead>\n",
       "  <tbody>\n",
       "    <tr>\n",
       "      <th rowspan=\"2\" valign=\"top\">CPI</th>\n",
       "      <th>BTC</th>\n",
       "      <td>0.486509</td>\n",
       "    </tr>\n",
       "    <tr>\n",
       "      <th>ETH</th>\n",
       "      <td>0.895606</td>\n",
       "    </tr>\n",
       "    <tr>\n",
       "      <th rowspan=\"2\" valign=\"top\">FOMC</th>\n",
       "      <th>BTC</th>\n",
       "      <td>0.834102</td>\n",
       "    </tr>\n",
       "    <tr>\n",
       "      <th>ETH</th>\n",
       "      <td>1.259345</td>\n",
       "    </tr>\n",
       "    <tr>\n",
       "      <th rowspan=\"2\" valign=\"top\">NFP</th>\n",
       "      <th>BTC</th>\n",
       "      <td>0.671936</td>\n",
       "    </tr>\n",
       "    <tr>\n",
       "      <th>ETH</th>\n",
       "      <td>0.843350</td>\n",
       "    </tr>\n",
       "    <tr>\n",
       "      <th rowspan=\"2\" valign=\"top\">PPI</th>\n",
       "      <th>BTC</th>\n",
       "      <td>0.201083</td>\n",
       "    </tr>\n",
       "    <tr>\n",
       "      <th>ETH</th>\n",
       "      <td>0.377916</td>\n",
       "    </tr>\n",
       "  </tbody>\n",
       "</table>\n",
       "</div>"
      ],
      "text/plain": [
       "                     Event Vol\n",
       "Event Name Currency           \n",
       "CPI        BTC        0.486509\n",
       "           ETH        0.895606\n",
       "FOMC       BTC        0.834102\n",
       "           ETH        1.259345\n",
       "NFP        BTC        0.671936\n",
       "           ETH        0.843350\n",
       "PPI        BTC        0.201083\n",
       "           ETH        0.377916"
      ]
     },
     "execution_count": 4,
     "metadata": {},
     "output_type": "execute_result"
    }
   ],
   "source": [
    "df"
   ]
  },
  {
   "cell_type": "code",
   "execution_count": 8,
   "id": "de56e4f3",
   "metadata": {},
   "outputs": [
    {
     "data": {
      "text/plain": [
       "{('CPI', 'BTC'): 0.48650858129208474,\n",
       " ('CPI', 'ETH'): 0.8956060885913556,\n",
       " ('FOMC', 'BTC'): 0.8341024650036615,\n",
       " ('FOMC', 'ETH'): 1.2593448799387723,\n",
       " ('NFP', 'BTC'): 0.6719360519847367,\n",
       " ('NFP', 'ETH'): 0.8433502237656211,\n",
       " ('PPI', 'BTC'): 0.20108337643044344,\n",
       " ('PPI', 'ETH'): 0.3779159578296879}"
      ]
     },
     "execution_count": 8,
     "metadata": {},
     "output_type": "execute_result"
    }
   ],
   "source": [
    "df.to_dict()[\"Event Vol\"]"
   ]
  },
  {
   "cell_type": "code",
   "execution_count": null,
   "id": "1a39b44b",
   "metadata": {},
   "outputs": [],
   "source": []
  },
  {
   "cell_type": "code",
   "execution_count": 1,
   "id": "44db01ad",
   "metadata": {},
   "outputs": [],
   "source": [
    "from dashboard_new import DataLoader\n",
    "data_loader = DataLoader()"
   ]
  },
  {
   "cell_type": "code",
   "execution_count": null,
   "id": "d23f27c3",
   "metadata": {},
   "outputs": [],
   "source": []
  },
  {
   "cell_type": "code",
   "execution_count": 2,
   "id": "981af9a4",
   "metadata": {},
   "outputs": [
    {
     "name": "stdout",
     "output_type": "stream",
     "text": [
      "[{'Currency': 'BTC', '24SEP25': 0.33385056027603144, '25SEP25': 0.31818331594625127, '26SEP25': 0.327415469023802, '3OCT25': 0.31495753842160346, '10OCT25': 0.3478945369528869, '31OCT25': 0.35830316780505006, '28NOV25': 0.4073501704960903, '26DEC25': 0.4363971887574096, '27MAR26': 0.4484288400887962, '26JUN26': 0.46475911197620123}, {'Currency': 'ETH', '24SEP25': 0.6782183946301168, '25SEP25': 0.6531591244915577, '26SEP25': 0.6747040281980659, '3OCT25': 0.6038939295556249, '10OCT25': 0.6246668010360623, '31OCT25': 0.6239172281620124, '28NOV25': 0.6368481845123697, '26DEC25': 0.6455610457925318, '27MAR26': 0.6577804449482622, '26JUN26': 0.6650858190648283}]\n"
     ]
    }
   ],
   "source": [
    "fwd_df = data_loader.prepare_fwd_vol_data()"
   ]
  },
  {
   "cell_type": "code",
   "execution_count": 3,
   "id": "3a040f9f",
   "metadata": {},
   "outputs": [
    {
     "data": {
      "text/html": [
       "<div>\n",
       "<style scoped>\n",
       "    .dataframe tbody tr th:only-of-type {\n",
       "        vertical-align: middle;\n",
       "    }\n",
       "\n",
       "    .dataframe tbody tr th {\n",
       "        vertical-align: top;\n",
       "    }\n",
       "\n",
       "    .dataframe thead th {\n",
       "        text-align: right;\n",
       "    }\n",
       "</style>\n",
       "<table border=\"1\" class=\"dataframe\">\n",
       "  <thead>\n",
       "    <tr style=\"text-align: right;\">\n",
       "      <th></th>\n",
       "      <th>Currency</th>\n",
       "      <th>23SEP25</th>\n",
       "      <th>24SEP25</th>\n",
       "      <th>25SEP25</th>\n",
       "      <th>26SEP25</th>\n",
       "      <th>3OCT25</th>\n",
       "      <th>10OCT25</th>\n",
       "      <th>31OCT25</th>\n",
       "      <th>28NOV25</th>\n",
       "      <th>26DEC25</th>\n",
       "      <th>27MAR26</th>\n",
       "      <th>26JUN26</th>\n",
       "    </tr>\n",
       "  </thead>\n",
       "  <tbody>\n",
       "    <tr>\n",
       "      <th>0</th>\n",
       "      <td>BTC</td>\n",
       "      <td>NaN</td>\n",
       "      <td>0.333851</td>\n",
       "      <td>0.318183</td>\n",
       "      <td>0.327415</td>\n",
       "      <td>0.314958</td>\n",
       "      <td>0.347895</td>\n",
       "      <td>0.358303</td>\n",
       "      <td>0.407350</td>\n",
       "      <td>0.436397</td>\n",
       "      <td>0.448429</td>\n",
       "      <td>0.464759</td>\n",
       "    </tr>\n",
       "    <tr>\n",
       "      <th>1</th>\n",
       "      <td>ETH</td>\n",
       "      <td>NaN</td>\n",
       "      <td>0.678218</td>\n",
       "      <td>0.653159</td>\n",
       "      <td>0.674704</td>\n",
       "      <td>0.603894</td>\n",
       "      <td>0.624667</td>\n",
       "      <td>0.623917</td>\n",
       "      <td>0.636848</td>\n",
       "      <td>0.645561</td>\n",
       "      <td>0.657780</td>\n",
       "      <td>0.665086</td>\n",
       "    </tr>\n",
       "  </tbody>\n",
       "</table>\n",
       "</div>"
      ],
      "text/plain": [
       "  Currency  23SEP25   24SEP25   25SEP25   26SEP25    3OCT25   10OCT25  \\\n",
       "0      BTC      NaN  0.333851  0.318183  0.327415  0.314958  0.347895   \n",
       "1      ETH      NaN  0.678218  0.653159  0.674704  0.603894  0.624667   \n",
       "\n",
       "    31OCT25   28NOV25   26DEC25   27MAR26   26JUN26  \n",
       "0  0.358303  0.407350  0.436397  0.448429  0.464759  \n",
       "1  0.623917  0.636848  0.645561  0.657780  0.665086  "
      ]
     },
     "execution_count": 3,
     "metadata": {},
     "output_type": "execute_result"
    }
   ],
   "source": [
    "fwd_df"
   ]
  },
  {
   "cell_type": "code",
   "execution_count": 5,
   "id": "7c88d7cb",
   "metadata": {},
   "outputs": [],
   "source": [
    "previous_vol_df = data_loader.prepare_historical_vol_data()"
   ]
  },
  {
   "cell_type": "code",
   "execution_count": 7,
   "id": "3f9817c7",
   "metadata": {},
   "outputs": [
    {
     "ename": "TypeError",
     "evalue": "'>' not supported between instances of 'str' and 'int'",
     "output_type": "error",
     "traceback": [
      "\u001b[31m---------------------------------------------------------------------------\u001b[39m",
      "\u001b[31mTypeError\u001b[39m                                 Traceback (most recent call last)",
      "\u001b[36mCell\u001b[39m\u001b[36m \u001b[39m\u001b[32mIn[7]\u001b[39m\u001b[32m, line 1\u001b[39m\n\u001b[32m----> \u001b[39m\u001b[32m1\u001b[39m previous_vol_df[\u001b[43mprevious_vol_df\u001b[49m\u001b[43m[\u001b[49m\u001b[33;43m'\u001b[39;49m\u001b[33;43mEvent Vol\u001b[39;49m\u001b[33;43m'\u001b[39;49m\u001b[43m]\u001b[49m\u001b[43m \u001b[49m\u001b[43m>\u001b[49m\u001b[43m \u001b[49m\u001b[32;43m0\u001b[39;49m]\n",
      "\u001b[36mFile \u001b[39m\u001b[32m~/.miniconda/envs/fbg/lib/python3.12/site-packages/pandas/core/ops/common.py:76\u001b[39m, in \u001b[36m_unpack_zerodim_and_defer.<locals>.new_method\u001b[39m\u001b[34m(self, other)\u001b[39m\n\u001b[32m     72\u001b[39m             \u001b[38;5;28;01mreturn\u001b[39;00m \u001b[38;5;28mNotImplemented\u001b[39m\n\u001b[32m     74\u001b[39m other = item_from_zerodim(other)\n\u001b[32m---> \u001b[39m\u001b[32m76\u001b[39m \u001b[38;5;28;01mreturn\u001b[39;00m \u001b[43mmethod\u001b[49m\u001b[43m(\u001b[49m\u001b[38;5;28;43mself\u001b[39;49m\u001b[43m,\u001b[49m\u001b[43m \u001b[49m\u001b[43mother\u001b[49m\u001b[43m)\u001b[49m\n",
      "\u001b[36mFile \u001b[39m\u001b[32m~/.miniconda/envs/fbg/lib/python3.12/site-packages/pandas/core/arraylike.py:56\u001b[39m, in \u001b[36mOpsMixin.__gt__\u001b[39m\u001b[34m(self, other)\u001b[39m\n\u001b[32m     54\u001b[39m \u001b[38;5;129m@unpack_zerodim_and_defer\u001b[39m(\u001b[33m\"\u001b[39m\u001b[33m__gt__\u001b[39m\u001b[33m\"\u001b[39m)\n\u001b[32m     55\u001b[39m \u001b[38;5;28;01mdef\u001b[39;00m\u001b[38;5;250m \u001b[39m\u001b[34m__gt__\u001b[39m(\u001b[38;5;28mself\u001b[39m, other):\n\u001b[32m---> \u001b[39m\u001b[32m56\u001b[39m     \u001b[38;5;28;01mreturn\u001b[39;00m \u001b[38;5;28;43mself\u001b[39;49m\u001b[43m.\u001b[49m\u001b[43m_cmp_method\u001b[49m\u001b[43m(\u001b[49m\u001b[43mother\u001b[49m\u001b[43m,\u001b[49m\u001b[43m \u001b[49m\u001b[43moperator\u001b[49m\u001b[43m.\u001b[49m\u001b[43mgt\u001b[49m\u001b[43m)\u001b[49m\n",
      "\u001b[36mFile \u001b[39m\u001b[32m~/.miniconda/envs/fbg/lib/python3.12/site-packages/pandas/core/series.py:6130\u001b[39m, in \u001b[36mSeries._cmp_method\u001b[39m\u001b[34m(self, other, op)\u001b[39m\n\u001b[32m   6127\u001b[39m lvalues = \u001b[38;5;28mself\u001b[39m._values\n\u001b[32m   6128\u001b[39m rvalues = extract_array(other, extract_numpy=\u001b[38;5;28;01mTrue\u001b[39;00m, extract_range=\u001b[38;5;28;01mTrue\u001b[39;00m)\n\u001b[32m-> \u001b[39m\u001b[32m6130\u001b[39m res_values = \u001b[43mops\u001b[49m\u001b[43m.\u001b[49m\u001b[43mcomparison_op\u001b[49m\u001b[43m(\u001b[49m\u001b[43mlvalues\u001b[49m\u001b[43m,\u001b[49m\u001b[43m \u001b[49m\u001b[43mrvalues\u001b[49m\u001b[43m,\u001b[49m\u001b[43m \u001b[49m\u001b[43mop\u001b[49m\u001b[43m)\u001b[49m\n\u001b[32m   6132\u001b[39m \u001b[38;5;28;01mreturn\u001b[39;00m \u001b[38;5;28mself\u001b[39m._construct_result(res_values, name=res_name)\n",
      "\u001b[36mFile \u001b[39m\u001b[32m~/.miniconda/envs/fbg/lib/python3.12/site-packages/pandas/core/ops/array_ops.py:344\u001b[39m, in \u001b[36mcomparison_op\u001b[39m\u001b[34m(left, right, op)\u001b[39m\n\u001b[32m    341\u001b[39m     \u001b[38;5;28;01mreturn\u001b[39;00m invalid_comparison(lvalues, rvalues, op)\n\u001b[32m    343\u001b[39m \u001b[38;5;28;01melif\u001b[39;00m lvalues.dtype == \u001b[38;5;28mobject\u001b[39m \u001b[38;5;129;01mor\u001b[39;00m \u001b[38;5;28misinstance\u001b[39m(rvalues, \u001b[38;5;28mstr\u001b[39m):\n\u001b[32m--> \u001b[39m\u001b[32m344\u001b[39m     res_values = \u001b[43mcomp_method_OBJECT_ARRAY\u001b[49m\u001b[43m(\u001b[49m\u001b[43mop\u001b[49m\u001b[43m,\u001b[49m\u001b[43m \u001b[49m\u001b[43mlvalues\u001b[49m\u001b[43m,\u001b[49m\u001b[43m \u001b[49m\u001b[43mrvalues\u001b[49m\u001b[43m)\u001b[49m\n\u001b[32m    346\u001b[39m \u001b[38;5;28;01melse\u001b[39;00m:\n\u001b[32m    347\u001b[39m     res_values = _na_arithmetic_op(lvalues, rvalues, op, is_cmp=\u001b[38;5;28;01mTrue\u001b[39;00m)\n",
      "\u001b[36mFile \u001b[39m\u001b[32m~/.miniconda/envs/fbg/lib/python3.12/site-packages/pandas/core/ops/array_ops.py:129\u001b[39m, in \u001b[36mcomp_method_OBJECT_ARRAY\u001b[39m\u001b[34m(op, x, y)\u001b[39m\n\u001b[32m    127\u001b[39m     result = libops.vec_compare(x.ravel(), y.ravel(), op)\n\u001b[32m    128\u001b[39m \u001b[38;5;28;01melse\u001b[39;00m:\n\u001b[32m--> \u001b[39m\u001b[32m129\u001b[39m     result = \u001b[43mlibops\u001b[49m\u001b[43m.\u001b[49m\u001b[43mscalar_compare\u001b[49m\u001b[43m(\u001b[49m\u001b[43mx\u001b[49m\u001b[43m.\u001b[49m\u001b[43mravel\u001b[49m\u001b[43m(\u001b[49m\u001b[43m)\u001b[49m\u001b[43m,\u001b[49m\u001b[43m \u001b[49m\u001b[43my\u001b[49m\u001b[43m,\u001b[49m\u001b[43m \u001b[49m\u001b[43mop\u001b[49m\u001b[43m)\u001b[49m\n\u001b[32m    130\u001b[39m \u001b[38;5;28;01mreturn\u001b[39;00m result.reshape(x.shape)\n",
      "\u001b[36mFile \u001b[39m\u001b[32mpandas/_libs/ops.pyx:107\u001b[39m, in \u001b[36mpandas._libs.ops.scalar_compare\u001b[39m\u001b[34m()\u001b[39m\n",
      "\u001b[31mTypeError\u001b[39m: '>' not supported between instances of 'str' and 'int'"
     ]
    }
   ],
   "source": [
    "previous_vol_df[previous_vol_df['Event Vol'] > 0]"
   ]
  },
  {
   "cell_type": "code",
   "execution_count": null,
   "id": "86b0c02f",
   "metadata": {},
   "outputs": [],
   "source": []
  }
 ],
 "metadata": {
  "kernelspec": {
   "display_name": "fbg",
   "language": "python",
   "name": "python3"
  },
  "language_info": {
   "codemirror_mode": {
    "name": "ipython",
    "version": 3
   },
   "file_extension": ".py",
   "mimetype": "text/x-python",
   "name": "python",
   "nbconvert_exporter": "python",
   "pygments_lexer": "ipython3",
   "version": "3.12.11"
  }
 },
 "nbformat": 4,
 "nbformat_minor": 5
}
