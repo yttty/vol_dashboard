{
 "cells": [
  {
   "cell_type": "code",
   "execution_count": 1,
   "id": "44db01ad",
   "metadata": {},
   "outputs": [],
   "source": [
    "from dashboard_new import DataLoader\n",
    "data_loader = DataLoader()"
   ]
  },
  {
   "cell_type": "code",
   "execution_count": 2,
   "id": "981af9a4",
   "metadata": {},
   "outputs": [
    {
     "name": "stdout",
     "output_type": "stream",
     "text": [
      "[{'Currency': 'BTC', '24SEP25': 0.33385056027603144, '25SEP25': 0.31818331594625127, '26SEP25': 0.327415469023802, '3OCT25': 0.31495753842160346, '10OCT25': 0.3478945369528869, '31OCT25': 0.35830316780505006, '28NOV25': 0.4073501704960903, '26DEC25': 0.4363971887574096, '27MAR26': 0.4484288400887962, '26JUN26': 0.46475911197620123}, {'Currency': 'ETH', '24SEP25': 0.6782183946301168, '25SEP25': 0.6531591244915577, '26SEP25': 0.6747040281980659, '3OCT25': 0.6038939295556249, '10OCT25': 0.6246668010360623, '31OCT25': 0.6239172281620124, '28NOV25': 0.6368481845123697, '26DEC25': 0.6455610457925318, '27MAR26': 0.6577804449482622, '26JUN26': 0.6650858190648283}]\n"
     ]
    }
   ],
   "source": [
    "fwd_df = data_loader.prepare_fwd_vol_data()"
   ]
  },
  {
   "cell_type": "code",
   "execution_count": 3,
   "id": "3a040f9f",
   "metadata": {},
   "outputs": [
    {
     "data": {
      "text/html": [
       "<div>\n",
       "<style scoped>\n",
       "    .dataframe tbody tr th:only-of-type {\n",
       "        vertical-align: middle;\n",
       "    }\n",
       "\n",
       "    .dataframe tbody tr th {\n",
       "        vertical-align: top;\n",
       "    }\n",
       "\n",
       "    .dataframe thead th {\n",
       "        text-align: right;\n",
       "    }\n",
       "</style>\n",
       "<table border=\"1\" class=\"dataframe\">\n",
       "  <thead>\n",
       "    <tr style=\"text-align: right;\">\n",
       "      <th></th>\n",
       "      <th>Currency</th>\n",
       "      <th>23SEP25</th>\n",
       "      <th>24SEP25</th>\n",
       "      <th>25SEP25</th>\n",
       "      <th>26SEP25</th>\n",
       "      <th>3OCT25</th>\n",
       "      <th>10OCT25</th>\n",
       "      <th>31OCT25</th>\n",
       "      <th>28NOV25</th>\n",
       "      <th>26DEC25</th>\n",
       "      <th>27MAR26</th>\n",
       "      <th>26JUN26</th>\n",
       "    </tr>\n",
       "  </thead>\n",
       "  <tbody>\n",
       "    <tr>\n",
       "      <th>0</th>\n",
       "      <td>BTC</td>\n",
       "      <td>NaN</td>\n",
       "      <td>0.333851</td>\n",
       "      <td>0.318183</td>\n",
       "      <td>0.327415</td>\n",
       "      <td>0.314958</td>\n",
       "      <td>0.347895</td>\n",
       "      <td>0.358303</td>\n",
       "      <td>0.407350</td>\n",
       "      <td>0.436397</td>\n",
       "      <td>0.448429</td>\n",
       "      <td>0.464759</td>\n",
       "    </tr>\n",
       "    <tr>\n",
       "      <th>1</th>\n",
       "      <td>ETH</td>\n",
       "      <td>NaN</td>\n",
       "      <td>0.678218</td>\n",
       "      <td>0.653159</td>\n",
       "      <td>0.674704</td>\n",
       "      <td>0.603894</td>\n",
       "      <td>0.624667</td>\n",
       "      <td>0.623917</td>\n",
       "      <td>0.636848</td>\n",
       "      <td>0.645561</td>\n",
       "      <td>0.657780</td>\n",
       "      <td>0.665086</td>\n",
       "    </tr>\n",
       "  </tbody>\n",
       "</table>\n",
       "</div>"
      ],
      "text/plain": [
       "  Currency  23SEP25   24SEP25   25SEP25   26SEP25    3OCT25   10OCT25  \\\n",
       "0      BTC      NaN  0.333851  0.318183  0.327415  0.314958  0.347895   \n",
       "1      ETH      NaN  0.678218  0.653159  0.674704  0.603894  0.624667   \n",
       "\n",
       "    31OCT25   28NOV25   26DEC25   27MAR26   26JUN26  \n",
       "0  0.358303  0.407350  0.436397  0.448429  0.464759  \n",
       "1  0.623917  0.636848  0.645561  0.657780  0.665086  "
      ]
     },
     "execution_count": 3,
     "metadata": {},
     "output_type": "execute_result"
    }
   ],
   "source": [
    "fwd_df"
   ]
  },
  {
   "cell_type": "code",
   "execution_count": null,
   "id": "7c88d7cb",
   "metadata": {},
   "outputs": [],
   "source": []
  }
 ],
 "metadata": {
  "kernelspec": {
   "display_name": "fbg",
   "language": "python",
   "name": "python3"
  },
  "language_info": {
   "codemirror_mode": {
    "name": "ipython",
    "version": 3
   },
   "file_extension": ".py",
   "mimetype": "text/x-python",
   "name": "python",
   "nbconvert_exporter": "python",
   "pygments_lexer": "ipython3",
   "version": "3.12.11"
  }
 },
 "nbformat": 4,
 "nbformat_minor": 5
}
